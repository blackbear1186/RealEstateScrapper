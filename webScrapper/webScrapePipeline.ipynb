{
 "cells": [
  {
   "cell_type": "code",
   "execution_count": 1,
   "id": "c6ffec89-ecfc-4c96-a791-b5593b6daac1",
   "metadata": {},
   "outputs": [],
   "source": [
    "import pandas as pd\n",
    "import time\n",
    "from selenium import webdriver\n",
    "from selenium.webdriver.common.by import By\n",
    "from selenium.webdriver.common.keys import Keys\n",
    "from selenium.common.exceptions import NoSuchElementException\n",
    "from selenium.common.exceptions import StaleElementReferenceException\n",
    "from selenium.common.exceptions import ElementClickInterceptedException\n",
    "from selenium.webdriver.support.wait import WebDriverWait\n",
    "from selenium.webdriver.support import expected_conditions\n",
    "from bs4 import BeautifulSoup\n",
    "from collections import namedtuple\n",
    "import requests\n",
    "import numpy as np\n",
    "import seaborn as sns\n",
    "import matplotlib.pyplot as plt"
   ]
  },
  {
   "cell_type": "code",
   "execution_count": 69,
   "id": "8ad41502-f192-4534-bab0-40b0760aac24",
   "metadata": {},
   "outputs": [],
   "source": [
    "walker = 'https://www.remax.com/homes-for-sale/tx/walker-county/county/48471'\n",
    "montgomery = 'https://www.remax.com/homes-for-sale/tx/montgomery-county/county/48339'\n",
    "grimes = 'https://www.remax.com/homes-for-sale/tx/grimes-county/county/48185'\n",
    "waller = 'https://www.remax.com/homes-for-sale/tx/waller-county/county/48473'\n",
    "liberty = 'https://www.remax.com/homes-for-sale/tx/liberty-county/county/48291'\n",
    "polk = 'https://www.remax.com/homes-for-sale/tx/polk-county/county/48373'\n",
    "san_jacinto = 'https://www.remax.com/homes-for-sale/tx/san-jacinto-county/county/48407'\n",
    "counties = [walker,montgomery,grimes,waller,liberty,polk,san_jacinto]"
   ]
  },
  {
   "cell_type": "code",
   "execution_count": 65,
   "id": "7e209fdb-0aa3-43cc-809c-da661eb5c815",
   "metadata": {
    "scrolled": true
   },
   "outputs": [
    {
     "name": "stdout",
     "output_type": "stream",
     "text": [
      "['https://www.remax.com/homes-for-sale/tx/walker-county/county/48471']\n",
      "['https://www.remax.com/homes-for-sale/tx/montgomery-county/county/48339']\n",
      "['https://www.remax.com/homes-for-sale/tx/grimes-county/county/48185']\n",
      "['https://www.remax.com/homes-for-sale/tx/waller-county/county/48473']\n",
      "['https://www.remax.com/homes-for-sale/tx/liberty-county/county/48291']\n",
      "['https://www.remax.com/homes-for-sale/tx/polk-county/county/48373']\n",
      "['https://www.remax.com/homes-for-sale/tx/san-jacinto-county/county/48407']\n"
     ]
    }
   ],
   "source": [
    "for county in counties:\n",
    "    print(county)"
   ]
  },
  {
   "cell_type": "code",
   "execution_count": 66,
   "id": "7b8424f9-98c4-4991-95e5-4abb174c027c",
   "metadata": {
    "scrolled": true
   },
   "outputs": [],
   "source": [
    "\n",
    "def getRealEstate(url):\n",
    "    driver = webdriver.Firefox()\n",
    "    driver.get(url)\n",
    "\n",
    "    cookies = driver.find_element(By.XPATH, '//button[@class=\"modal-cookie-only-necessary-button dbutton dbutton-remax outline\"]')\n",
    "    driver.execute_script(\"arguments[0].click();\",cookies)\n",
    "    post = []\n",
    "    stop = True\n",
    "    counter = 1\n",
    "\n",
    "    while stop != False:\n",
    "\n",
    "\n",
    "        html_doc = requests.get(f'{url}/page-'+ str(counter)).text\n",
    "        soup = BeautifulSoup(html_doc,'html.parser') \n",
    "        post.extend(soup.find_all('div',class_='card-details'))\n",
    "        try:\n",
    "            ignored_exceptions=(StaleElementReferenceException)\n",
    "            next = WebDriverWait(driver, 30,ignored_exceptions=ignored_exceptions)\\\n",
    "                   .until(expected_conditions.presence_of_element_located((By.XPATH, '//a[@aria-label=\"Next Page\"]')))\n",
    "            next.click()\n",
    "            counter = counter + 1\n",
    "            \n",
    "           \n",
    "                \n",
    "        except ElementClickInterceptedException:\n",
    "            driver.close()\n",
    "            stop = False\n",
    "    return post"
   ]
  },
  {
   "cell_type": "code",
   "execution_count": 73,
   "id": "365f30ba-d5da-4bd2-8f14-ec4f7066cce4",
   "metadata": {},
   "outputs": [],
   "source": [
    "posts = []\n",
    "for county in counties:\n",
    "    posts.extend(getRealEstate(county))"
   ]
  },
  {
   "cell_type": "code",
   "execution_count": 62,
   "id": "86eda763-6aba-43d4-93bb-17db35339a06",
   "metadata": {},
   "outputs": [],
   "source": [
    "#Get Price\n",
    "def getStats(posts):\n",
    "    cards = []\n",
    "    for element in posts:\n",
    "        for card in element.find_all('div', class_='card-details-stats'):\n",
    "            beds = card.contents[2].text[:1]\n",
    "            baths = card.contents[4].text[:1]\n",
    "            if card.find(string='Acres'):\n",
    "                acres = card.contents[6].text[:-7].replace(',','').strip()\n",
    "                sqft=''\n",
    "            else:\n",
    "                acres = ''\n",
    "                sqft = card.contents[6].text[:-6].replace(',','')\n",
    "        \n",
    "        \n",
    "        #print(beds+' '+baths+' '+sqft)\n",
    "        #Fix the address to city, state, zip code, address\n",
    "        address = element.find('h5').contents[0].text\n",
    "        city = element.find('h5').contents[1].text[1:-10].strip()\n",
    "        state = element.find('h5').contents[1].text[-8:-6]\n",
    "        zipCode = element.find('h5').contents[1].text[-6:].strip()\n",
    "        price = element.find('h4', class_='price').text[10:-7].replace(',','')\n",
    "        cards.append({'Price':int(price), 'Address':address,'City':city,'State':state,'ZipCode':int(zipCode),'Beds':beds,'Baths':baths,'Sqft':sqft, 'Acres':acres})\n",
    "    \n",
    "    return cards\n"
   ]
  },
  {
   "cell_type": "code",
   "execution_count": 63,
   "id": "5cad32a5-38f7-4692-8fc3-f2a05a0e2e3a",
   "metadata": {},
   "outputs": [],
   "source": [
    "cards = getStats(posts)"
   ]
  },
  {
   "cell_type": "code",
   "execution_count": 76,
   "id": "b188630c-35b7-44b4-8083-cdba20f09415",
   "metadata": {},
   "outputs": [],
   "source": [
    "properties = pd.read_csv('properties.csv')"
   ]
  },
  {
   "cell_type": "code",
   "execution_count": 87,
   "id": "48e38890-3d7c-48ff-80b3-f0963b417cef",
   "metadata": {},
   "outputs": [],
   "source": [
    "walker_cnty = ['Huntsville','New Waverly','Riverside','Dodge']\n",
    "montgomery_cnty = ['Conroe','Dobbin','Magnolia','Montgomery','New Caney','Pinehurst','Porter','Splendora','Spring','Willis']\n",
    "grimes_cnty = ['Anderson','Bedias','Iola','Navasota','Plantersville','Richards','Roans Prairie','Shiro']\n",
    "waller_cnty = ['Hempstead','Pine Island','Brookshire','Prairie View','Pattison']\n",
    "liberty_cnty = ['Cleveland','Daisetta','Dayton','Devers','Hardin','Hull','Liberty','Raywood','Romayor','Rye']\n",
    "polk_cnty = ['Ace','Camden','Corrigan','Dallardsville','Goodrich','Leggett','Livingston','Moscow','Onalaska']\n",
    "san_jacinto_cnty = ['Coldspring','Cape Royale','Shepherd','Point Blank','Oakhurst'] \n",
    "county_list = [walker_cnty,montgomery_cnty,grimes_cnty,waller_cnty,liberty_cnty,polk_cnty,san_jacinto_cnty]"
   ]
  },
  {
   "cell_type": "markdown",
   "id": "a93ce37a-2569-44ec-9144-861edfaa3a88",
   "metadata": {},
   "source": [
    "EXPLORATORY DATA ANALYSIS"
   ]
  },
  {
   "cell_type": "code",
   "execution_count": 77,
   "id": "a94bf138-9c18-4a5b-9497-ef4a7dde4751",
   "metadata": {},
   "outputs": [],
   "source": [
    "#Get Square Footage\n",
    "properties = pd.DataFrame(data=cards)"
   ]
  },
  {
   "cell_type": "code",
   "execution_count": 101,
   "id": "595ab707-788f-4c72-a8a4-0f767f93ee61",
   "metadata": {},
   "outputs": [
    {
     "ename": "KeyError",
     "evalue": "False",
     "output_type": "error",
     "traceback": [
      "\u001b[0;31m---------------------------------------------------------------------------\u001b[0m",
      "\u001b[0;31mKeyError\u001b[0m                                  Traceback (most recent call last)",
      "File \u001b[0;32m~/jupyter/jupyter/lib/python3.10/site-packages/pandas/core/indexes/base.py:3653\u001b[0m, in \u001b[0;36mIndex.get_loc\u001b[0;34m(self, key)\u001b[0m\n\u001b[1;32m   3652\u001b[0m \u001b[38;5;28;01mtry\u001b[39;00m:\n\u001b[0;32m-> 3653\u001b[0m     \u001b[38;5;28;01mreturn\u001b[39;00m \u001b[38;5;28;43mself\u001b[39;49m\u001b[38;5;241;43m.\u001b[39;49m\u001b[43m_engine\u001b[49m\u001b[38;5;241;43m.\u001b[39;49m\u001b[43mget_loc\u001b[49m\u001b[43m(\u001b[49m\u001b[43mcasted_key\u001b[49m\u001b[43m)\u001b[49m\n\u001b[1;32m   3654\u001b[0m \u001b[38;5;28;01mexcept\u001b[39;00m \u001b[38;5;167;01mKeyError\u001b[39;00m \u001b[38;5;28;01mas\u001b[39;00m err:\n",
      "File \u001b[0;32m~/jupyter/jupyter/lib/python3.10/site-packages/pandas/_libs/index.pyx:147\u001b[0m, in \u001b[0;36mpandas._libs.index.IndexEngine.get_loc\u001b[0;34m()\u001b[0m\n",
      "File \u001b[0;32m~/jupyter/jupyter/lib/python3.10/site-packages/pandas/_libs/index.pyx:176\u001b[0m, in \u001b[0;36mpandas._libs.index.IndexEngine.get_loc\u001b[0;34m()\u001b[0m\n",
      "File \u001b[0;32mpandas/_libs/hashtable_class_helper.pxi:7080\u001b[0m, in \u001b[0;36mpandas._libs.hashtable.PyObjectHashTable.get_item\u001b[0;34m()\u001b[0m\n",
      "File \u001b[0;32mpandas/_libs/hashtable_class_helper.pxi:7088\u001b[0m, in \u001b[0;36mpandas._libs.hashtable.PyObjectHashTable.get_item\u001b[0;34m()\u001b[0m\n",
      "\u001b[0;31mKeyError\u001b[0m: False",
      "\nThe above exception was the direct cause of the following exception:\n",
      "\u001b[0;31mKeyError\u001b[0m                                  Traceback (most recent call last)",
      "Cell \u001b[0;32mIn[101], line 4\u001b[0m\n\u001b[1;32m      1\u001b[0m \u001b[38;5;66;03m#properties['county'] = np.where()\u001b[39;00m\n\u001b[1;32m      2\u001b[0m \u001b[38;5;66;03m#properties['County'] = np.where(properties['City'] == 'Huntsville', 'Grimes','Walker')\u001b[39;00m\n\u001b[1;32m      3\u001b[0m \u001b[38;5;28;01mfor\u001b[39;00m cnty \u001b[38;5;129;01min\u001b[39;00m county_list:\n\u001b[0;32m----> 4\u001b[0m     \u001b[38;5;28;01mif\u001b[39;00m \u001b[43mproperties\u001b[49m\u001b[43m[\u001b[49m\u001b[43mproperties\u001b[49m\u001b[43m[\u001b[49m\u001b[38;5;124;43m'\u001b[39;49m\u001b[38;5;124;43mCity\u001b[39;49m\u001b[38;5;124;43m'\u001b[39;49m\u001b[43m]\u001b[49m\u001b[38;5;241;43m.\u001b[39;49m\u001b[43many\u001b[49m\u001b[43m(\u001b[49m\u001b[43m)\u001b[49m\u001b[43m \u001b[49m\u001b[38;5;241;43m==\u001b[39;49m\u001b[43m \u001b[49m\u001b[38;5;124;43m'\u001b[39;49m\u001b[38;5;124;43mHuntsville\u001b[39;49m\u001b[38;5;124;43m'\u001b[39;49m\u001b[43m]\u001b[49m:\n\u001b[1;32m      5\u001b[0m         \u001b[38;5;28mprint\u001b[39m(cnty)\n",
      "File \u001b[0;32m~/jupyter/jupyter/lib/python3.10/site-packages/pandas/core/frame.py:3761\u001b[0m, in \u001b[0;36mDataFrame.__getitem__\u001b[0;34m(self, key)\u001b[0m\n\u001b[1;32m   3759\u001b[0m \u001b[38;5;28;01mif\u001b[39;00m \u001b[38;5;28mself\u001b[39m\u001b[38;5;241m.\u001b[39mcolumns\u001b[38;5;241m.\u001b[39mnlevels \u001b[38;5;241m>\u001b[39m \u001b[38;5;241m1\u001b[39m:\n\u001b[1;32m   3760\u001b[0m     \u001b[38;5;28;01mreturn\u001b[39;00m \u001b[38;5;28mself\u001b[39m\u001b[38;5;241m.\u001b[39m_getitem_multilevel(key)\n\u001b[0;32m-> 3761\u001b[0m indexer \u001b[38;5;241m=\u001b[39m \u001b[38;5;28;43mself\u001b[39;49m\u001b[38;5;241;43m.\u001b[39;49m\u001b[43mcolumns\u001b[49m\u001b[38;5;241;43m.\u001b[39;49m\u001b[43mget_loc\u001b[49m\u001b[43m(\u001b[49m\u001b[43mkey\u001b[49m\u001b[43m)\u001b[49m\n\u001b[1;32m   3762\u001b[0m \u001b[38;5;28;01mif\u001b[39;00m is_integer(indexer):\n\u001b[1;32m   3763\u001b[0m     indexer \u001b[38;5;241m=\u001b[39m [indexer]\n",
      "File \u001b[0;32m~/jupyter/jupyter/lib/python3.10/site-packages/pandas/core/indexes/base.py:3655\u001b[0m, in \u001b[0;36mIndex.get_loc\u001b[0;34m(self, key)\u001b[0m\n\u001b[1;32m   3653\u001b[0m     \u001b[38;5;28;01mreturn\u001b[39;00m \u001b[38;5;28mself\u001b[39m\u001b[38;5;241m.\u001b[39m_engine\u001b[38;5;241m.\u001b[39mget_loc(casted_key)\n\u001b[1;32m   3654\u001b[0m \u001b[38;5;28;01mexcept\u001b[39;00m \u001b[38;5;167;01mKeyError\u001b[39;00m \u001b[38;5;28;01mas\u001b[39;00m err:\n\u001b[0;32m-> 3655\u001b[0m     \u001b[38;5;28;01mraise\u001b[39;00m \u001b[38;5;167;01mKeyError\u001b[39;00m(key) \u001b[38;5;28;01mfrom\u001b[39;00m \u001b[38;5;21;01merr\u001b[39;00m\n\u001b[1;32m   3656\u001b[0m \u001b[38;5;28;01mexcept\u001b[39;00m \u001b[38;5;167;01mTypeError\u001b[39;00m:\n\u001b[1;32m   3657\u001b[0m     \u001b[38;5;66;03m# If we have a listlike key, _check_indexing_error will raise\u001b[39;00m\n\u001b[1;32m   3658\u001b[0m     \u001b[38;5;66;03m#  InvalidIndexError. Otherwise we fall through and re-raise\u001b[39;00m\n\u001b[1;32m   3659\u001b[0m     \u001b[38;5;66;03m#  the TypeError.\u001b[39;00m\n\u001b[1;32m   3660\u001b[0m     \u001b[38;5;28mself\u001b[39m\u001b[38;5;241m.\u001b[39m_check_indexing_error(key)\n",
      "\u001b[0;31mKeyError\u001b[0m: False"
     ]
    }
   ],
   "source": [
    "#properties['county'] = np.where()\n",
    "#properties['County'] = np.where(properties['City'] == 'Huntsville', 'Grimes','Walker')\n",
    "for cnty in county_list:\n",
    "    "
   ]
  },
  {
   "cell_type": "code",
   "execution_count": 85,
   "id": "d2b6c119-90e9-4a18-bfa7-a004eef13b51",
   "metadata": {},
   "outputs": [
    {
     "data": {
      "text/html": [
       "<div>\n",
       "<style scoped>\n",
       "    .dataframe tbody tr th:only-of-type {\n",
       "        vertical-align: middle;\n",
       "    }\n",
       "\n",
       "    .dataframe tbody tr th {\n",
       "        vertical-align: top;\n",
       "    }\n",
       "\n",
       "    .dataframe thead th {\n",
       "        text-align: right;\n",
       "    }\n",
       "</style>\n",
       "<table border=\"1\" class=\"dataframe\">\n",
       "  <thead>\n",
       "    <tr style=\"text-align: right;\">\n",
       "      <th></th>\n",
       "      <th>Price</th>\n",
       "      <th>Address</th>\n",
       "      <th>City</th>\n",
       "      <th>State</th>\n",
       "      <th>ZipCode</th>\n",
       "      <th>Beds</th>\n",
       "      <th>Baths</th>\n",
       "      <th>Sqft</th>\n",
       "      <th>Acres</th>\n",
       "      <th>county</th>\n",
       "    </tr>\n",
       "  </thead>\n",
       "  <tbody>\n",
       "    <tr>\n",
       "      <th>0</th>\n",
       "      <td>160000</td>\n",
       "      <td>1-3-73 WINCHESTER ROAD</td>\n",
       "      <td>HUNTSVILLE</td>\n",
       "      <td>TX</td>\n",
       "      <td>77340</td>\n",
       "      <td>0</td>\n",
       "      <td>0</td>\n",
       "      <td>0</td>\n",
       "      <td>2.06</td>\n",
       "      <td>Walker</td>\n",
       "    </tr>\n",
       "    <tr>\n",
       "      <th>1</th>\n",
       "      <td>95000</td>\n",
       "      <td>7-23-67 SKY OAK LANE</td>\n",
       "      <td>HUNTSVILLE</td>\n",
       "      <td>TX</td>\n",
       "      <td>77340</td>\n",
       "      <td>0</td>\n",
       "      <td>0</td>\n",
       "      <td>0</td>\n",
       "      <td>1.00</td>\n",
       "      <td>Walker</td>\n",
       "    </tr>\n",
       "    <tr>\n",
       "      <th>2</th>\n",
       "      <td>419000</td>\n",
       "      <td>706 QUAIL HOLLOW DR</td>\n",
       "      <td>HUNTSVILLE</td>\n",
       "      <td>TX</td>\n",
       "      <td>77340</td>\n",
       "      <td>3</td>\n",
       "      <td>3</td>\n",
       "      <td>2516</td>\n",
       "      <td>0.00</td>\n",
       "      <td>Walker</td>\n",
       "    </tr>\n",
       "    <tr>\n",
       "      <th>3</th>\n",
       "      <td>159000</td>\n",
       "      <td>2-10-17 STAGECOACH CIRCLE</td>\n",
       "      <td>HUNTSVILLE</td>\n",
       "      <td>TX</td>\n",
       "      <td>77340</td>\n",
       "      <td>0</td>\n",
       "      <td>0</td>\n",
       "      <td>0</td>\n",
       "      <td>3.56</td>\n",
       "      <td>Walker</td>\n",
       "    </tr>\n",
       "    <tr>\n",
       "      <th>4</th>\n",
       "      <td>99900</td>\n",
       "      <td>5-23-31 RIM ROCK ROAD</td>\n",
       "      <td>HUNTSVILLE</td>\n",
       "      <td>TX</td>\n",
       "      <td>77340</td>\n",
       "      <td>0</td>\n",
       "      <td>0</td>\n",
       "      <td>0</td>\n",
       "      <td>1.54</td>\n",
       "      <td>Walker</td>\n",
       "    </tr>\n",
       "    <tr>\n",
       "      <th>5</th>\n",
       "      <td>49900</td>\n",
       "      <td>25 STEAMBOAT RD</td>\n",
       "      <td>HUNTSVILLE</td>\n",
       "      <td>TX</td>\n",
       "      <td>77320</td>\n",
       "      <td>0</td>\n",
       "      <td>0</td>\n",
       "      <td>0</td>\n",
       "      <td>0.54</td>\n",
       "      <td>Walker</td>\n",
       "    </tr>\n",
       "    <tr>\n",
       "      <th>6</th>\n",
       "      <td>191500</td>\n",
       "      <td>2511 SYCAMORE AVE</td>\n",
       "      <td>HUNTSVILLE</td>\n",
       "      <td>TX</td>\n",
       "      <td>77340</td>\n",
       "      <td>3</td>\n",
       "      <td>2</td>\n",
       "      <td>1491</td>\n",
       "      <td>0.00</td>\n",
       "      <td>Walker</td>\n",
       "    </tr>\n",
       "    <tr>\n",
       "      <th>7</th>\n",
       "      <td>191189</td>\n",
       "      <td>TBD HADLEY CREEK BEND</td>\n",
       "      <td>HUNTSVILLE</td>\n",
       "      <td>TX</td>\n",
       "      <td>77320</td>\n",
       "      <td>0</td>\n",
       "      <td>0</td>\n",
       "      <td>0</td>\n",
       "      <td>7.99</td>\n",
       "      <td>Walker</td>\n",
       "    </tr>\n",
       "    <tr>\n",
       "      <th>8</th>\n",
       "      <td>123900</td>\n",
       "      <td>12-51-22 COPPERLEAF ROAD</td>\n",
       "      <td>HUNTSVILLE</td>\n",
       "      <td>TX</td>\n",
       "      <td>77340</td>\n",
       "      <td>0</td>\n",
       "      <td>0</td>\n",
       "      <td>0</td>\n",
       "      <td>2.00</td>\n",
       "      <td>Walker</td>\n",
       "    </tr>\n",
       "    <tr>\n",
       "      <th>9</th>\n",
       "      <td>230000</td>\n",
       "      <td>34 BLYTHE RANCH RD</td>\n",
       "      <td>HUNTSVILLE</td>\n",
       "      <td>TX</td>\n",
       "      <td>77320</td>\n",
       "      <td>5</td>\n",
       "      <td>3</td>\n",
       "      <td>2600</td>\n",
       "      <td>0.00</td>\n",
       "      <td>Walker</td>\n",
       "    </tr>\n",
       "  </tbody>\n",
       "</table>\n",
       "</div>"
      ],
      "text/plain": [
       "    Price                    Address        City State  ZipCode  Beds  Baths  \\\n",
       "0  160000     1-3-73 WINCHESTER ROAD  HUNTSVILLE    TX    77340     0      0   \n",
       "1   95000       7-23-67 SKY OAK LANE  HUNTSVILLE    TX    77340     0      0   \n",
       "2  419000        706 QUAIL HOLLOW DR  HUNTSVILLE    TX    77340     3      3   \n",
       "3  159000  2-10-17 STAGECOACH CIRCLE  HUNTSVILLE    TX    77340     0      0   \n",
       "4   99900      5-23-31 RIM ROCK ROAD  HUNTSVILLE    TX    77340     0      0   \n",
       "5   49900            25 STEAMBOAT RD  HUNTSVILLE    TX    77320     0      0   \n",
       "6  191500          2511 SYCAMORE AVE  HUNTSVILLE    TX    77340     3      2   \n",
       "7  191189      TBD HADLEY CREEK BEND  HUNTSVILLE    TX    77320     0      0   \n",
       "8  123900   12-51-22 COPPERLEAF ROAD  HUNTSVILLE    TX    77340     0      0   \n",
       "9  230000         34 BLYTHE RANCH RD  HUNTSVILLE    TX    77320     5      3   \n",
       "\n",
       "   Sqft  Acres  county  \n",
       "0     0   2.06  Walker  \n",
       "1     0   1.00  Walker  \n",
       "2  2516   0.00  Walker  \n",
       "3     0   3.56  Walker  \n",
       "4     0   1.54  Walker  \n",
       "5     0   0.54  Walker  \n",
       "6  1491   0.00  Walker  \n",
       "7     0   7.99  Walker  \n",
       "8     0   2.00  Walker  \n",
       "9  2600   0.00  Walker  "
      ]
     },
     "execution_count": 85,
     "metadata": {},
     "output_type": "execute_result"
    }
   ],
   "source": [
    "properties.head(10)"
   ]
  },
  {
   "cell_type": "code",
   "execution_count": 6,
   "id": "dd89f0fb-9259-46c6-af24-91ef75ea62bf",
   "metadata": {},
   "outputs": [
    {
     "data": {
      "text/plain": [
       "(12309, 9)"
      ]
     },
     "execution_count": 6,
     "metadata": {},
     "output_type": "execute_result"
    }
   ],
   "source": [
    "# Check the shape of the dataset\n",
    "properties.shape"
   ]
  },
  {
   "cell_type": "code",
   "execution_count": 7,
   "id": "b92ebbb6-6867-44be-a71f-d57df311d745",
   "metadata": {},
   "outputs": [
    {
     "data": {
      "text/plain": [
       "110781"
      ]
     },
     "execution_count": 7,
     "metadata": {},
     "output_type": "execute_result"
    }
   ],
   "source": [
    "# Check size of dataset\n",
    "properties.size"
   ]
  },
  {
   "cell_type": "code",
   "execution_count": 54,
   "id": "6150ba72-52f0-4a82-bde3-90b1851bc3e1",
   "metadata": {},
   "outputs": [
    {
     "name": "stdout",
     "output_type": "stream",
     "text": [
      "<class 'pandas.core.frame.DataFrame'>\n",
      "RangeIndex: 12438 entries, 0 to 12437\n",
      "Data columns (total 9 columns):\n",
      " #   Column   Non-Null Count  Dtype \n",
      "---  ------   --------------  ----- \n",
      " 0   Price    12438 non-null  int64 \n",
      " 1   Address  12438 non-null  object\n",
      " 2   City     12438 non-null  object\n",
      " 3   State    12438 non-null  object\n",
      " 4   ZipCode  12438 non-null  int64 \n",
      " 5   Beds     12438 non-null  object\n",
      " 6   Baths    12438 non-null  object\n",
      " 7   Sqft     12438 non-null  object\n",
      " 8   Acres    12438 non-null  object\n",
      "dtypes: int64(2), object(7)\n",
      "memory usage: 874.7+ KB\n"
     ]
    }
   ],
   "source": [
    "# Get info of the dataset\n",
    "properties.info()"
   ]
  },
  {
   "cell_type": "code",
   "execution_count": 84,
   "id": "7b6a6d59-bac1-4b73-98aa-8adb75e0e048",
   "metadata": {},
   "outputs": [],
   "source": [
    "# Change all empty strings to 0\n",
    "properties.replace('',0,inplace=True)\n",
    "properties.replace(' ',0,inplace=True)"
   ]
  },
  {
   "cell_type": "code",
   "execution_count": 56,
   "id": "5de214c8-6890-4bea-b944-6ef877dd43f7",
   "metadata": {},
   "outputs": [
    {
     "data": {
      "text/plain": [
       "Price      0\n",
       "Address    0\n",
       "City       0\n",
       "State      0\n",
       "ZipCode    0\n",
       "Beds       0\n",
       "Baths      0\n",
       "Sqft       0\n",
       "Acres      0\n",
       "dtype: int64"
      ]
     },
     "execution_count": 56,
     "metadata": {},
     "output_type": "execute_result"
    }
   ],
   "source": [
    "# Check for null values\n",
    "properties.isnull().sum()"
   ]
  },
  {
   "cell_type": "code",
   "execution_count": 66,
   "id": "d10b66c5-845a-4437-bed8-e9e88ad0c63e",
   "metadata": {},
   "outputs": [
    {
     "data": {
      "text/plain": [
       "[79,\n",
       " 176,\n",
       " 192,\n",
       " 368,\n",
       " 375,\n",
       " 420,\n",
       " 692,\n",
       " 840,\n",
       " 1210,\n",
       " 1918,\n",
       " 2097,\n",
       " 2173,\n",
       " 3714,\n",
       " 4052,\n",
       " 4428,\n",
       " 5180,\n",
       " 6369,\n",
       " 6958,\n",
       " 7193,\n",
       " 7227,\n",
       " 7285,\n",
       " 7286,\n",
       " 7298,\n",
       " 7305,\n",
       " 7511,\n",
       " 7528,\n",
       " 7529,\n",
       " 7532,\n",
       " 7569,\n",
       " 7614,\n",
       " 7620,\n",
       " 7621,\n",
       " 7632,\n",
       " 7645,\n",
       " 7711,\n",
       " 7722,\n",
       " 7728,\n",
       " 7779,\n",
       " 7791,\n",
       " 7824,\n",
       " 7902,\n",
       " 7960,\n",
       " 7983,\n",
       " 8008,\n",
       " 8011,\n",
       " 8040,\n",
       " 8180,\n",
       " 8223,\n",
       " 8302,\n",
       " 8870,\n",
       " 9057,\n",
       " 9065,\n",
       " 9071,\n",
       " 9100,\n",
       " 9102,\n",
       " 9109,\n",
       " 9301,\n",
       " 9673,\n",
       " 10082,\n",
       " 10732,\n",
       " 10796,\n",
       " 11130,\n",
       " 11475,\n",
       " 11524,\n",
       " 11623,\n",
       " 11698,\n",
       " 12124,\n",
       " 79,\n",
       " 192,\n",
       " 368,\n",
       " 375,\n",
       " 420,\n",
       " 692,\n",
       " 2173,\n",
       " 3714,\n",
       " 4052,\n",
       " 4571,\n",
       " 4577,\n",
       " 6033,\n",
       " 6369,\n",
       " 6958,\n",
       " 7193,\n",
       " 7285,\n",
       " 7286,\n",
       " 7298,\n",
       " 7305,\n",
       " 7511,\n",
       " 7528,\n",
       " 7529,\n",
       " 7532,\n",
       " 7569,\n",
       " 7614,\n",
       " 7620,\n",
       " 7621,\n",
       " 7632,\n",
       " 7645,\n",
       " 7711,\n",
       " 7722,\n",
       " 7728,\n",
       " 7791,\n",
       " 7824,\n",
       " 7902,\n",
       " 7960,\n",
       " 7983,\n",
       " 8008,\n",
       " 8011,\n",
       " 8040,\n",
       " 8180,\n",
       " 8223,\n",
       " 8302,\n",
       " 8870,\n",
       " 9000,\n",
       " 9057,\n",
       " 9065,\n",
       " 9071,\n",
       " 9100,\n",
       " 9102,\n",
       " 9109,\n",
       " 10082,\n",
       " 10671,\n",
       " 10715,\n",
       " 10732,\n",
       " 10796,\n",
       " 10871,\n",
       " 11130,\n",
       " 11475,\n",
       " 11623,\n",
       " 12085,\n",
       " 449,\n",
       " 453,\n",
       " 532,\n",
       " 556,\n",
       " 577,\n",
       " 643,\n",
       " 716,\n",
       " 1946,\n",
       " 3626,\n",
       " 5224,\n",
       " 6192,\n",
       " 6268,\n",
       " 6391,\n",
       " 6679,\n",
       " 7446,\n",
       " 7661,\n",
       " 8112,\n",
       " 8981,\n",
       " 9034,\n",
       " 9099,\n",
       " 9528,\n",
       " 9649,\n",
       " 9762,\n",
       " 9766,\n",
       " 9860,\n",
       " 9995,\n",
       " 9999,\n",
       " 10248,\n",
       " 10261,\n",
       " 10264,\n",
       " 10311,\n",
       " 10404,\n",
       " 10415,\n",
       " 10578,\n",
       " 10699,\n",
       " 10737,\n",
       " 10828,\n",
       " 10843,\n",
       " 11022,\n",
       " 11086,\n",
       " 11391,\n",
       " 11458,\n",
       " 11463,\n",
       " 11470,\n",
       " 11643,\n",
       " 11805,\n",
       " 11821,\n",
       " 11822,\n",
       " 11852,\n",
       " 11857,\n",
       " 12238,\n",
       " 12304,\n",
       " 12305,\n",
       " 12309]"
      ]
     },
     "execution_count": 66,
     "metadata": {},
     "output_type": "execute_result"
    }
   ],
   "source": [
    "# Get index of all row that contain an invalid character entry\n",
    "columns = ['Beds','Baths','Acres']\n",
    "row_drop = []\n",
    "for row in columns:\n",
    "    row_drop.extend(properties[properties[row] == '—'].index)\n",
    "row_drop"
   ]
  },
  {
   "cell_type": "code",
   "execution_count": 67,
   "id": "dd95b132-456d-4f72-84d2-4699b0ed2aa3",
   "metadata": {},
   "outputs": [],
   "source": [
    "# Drop those rows\n",
    "properties.drop(row_drop,inplace=True)"
   ]
  },
  {
   "cell_type": "code",
   "execution_count": 85,
   "id": "e614eaca-679a-49d9-8d2c-0a0b394a808e",
   "metadata": {},
   "outputs": [],
   "source": [
    "# Convert all necessary columns to numeric values\n",
    "properties['Beds'] = pd.to_numeric(properties['Beds'])\n",
    "properties['Baths'] = pd.to_numeric(properties['Baths'])\n",
    "properties['Acres'] = pd.to_numeric(properties['Acres'])\n",
    "properties['Sqft'] = pd.to_numeric(properties['Sqft'])"
   ]
  },
  {
   "cell_type": "code",
   "execution_count": 8,
   "id": "986cde2d-060d-4c23-b23c-d123913ba2c2",
   "metadata": {},
   "outputs": [
    {
     "name": "stdout",
     "output_type": "stream",
     "text": [
      "<class 'pandas.core.frame.DataFrame'>\n",
      "RangeIndex: 12309 entries, 0 to 12308\n",
      "Data columns (total 9 columns):\n",
      " #   Column   Non-Null Count  Dtype  \n",
      "---  ------   --------------  -----  \n",
      " 0   Price    12309 non-null  int64  \n",
      " 1   Address  12309 non-null  object \n",
      " 2   City     12309 non-null  object \n",
      " 3   State    12309 non-null  object \n",
      " 4   ZipCode  12309 non-null  int64  \n",
      " 5   Beds     12309 non-null  int64  \n",
      " 6   Baths    12309 non-null  int64  \n",
      " 7   Sqft     12309 non-null  int64  \n",
      " 8   Acres    12309 non-null  float64\n",
      "dtypes: float64(1), int64(5), object(3)\n",
      "memory usage: 865.6+ KB\n"
     ]
    }
   ],
   "source": [
    "properties.info()"
   ]
  },
  {
   "cell_type": "code",
   "execution_count": 9,
   "id": "16d941d5-5591-4f84-bb8b-e7e2f7cbb792",
   "metadata": {},
   "outputs": [
    {
     "data": {
      "text/html": [
       "<div>\n",
       "<style scoped>\n",
       "    .dataframe tbody tr th:only-of-type {\n",
       "        vertical-align: middle;\n",
       "    }\n",
       "\n",
       "    .dataframe tbody tr th {\n",
       "        vertical-align: top;\n",
       "    }\n",
       "\n",
       "    .dataframe thead th {\n",
       "        text-align: right;\n",
       "    }\n",
       "</style>\n",
       "<table border=\"1\" class=\"dataframe\">\n",
       "  <thead>\n",
       "    <tr style=\"text-align: right;\">\n",
       "      <th></th>\n",
       "      <th>Price</th>\n",
       "      <th>ZipCode</th>\n",
       "      <th>Beds</th>\n",
       "      <th>Baths</th>\n",
       "      <th>Sqft</th>\n",
       "      <th>Acres</th>\n",
       "    </tr>\n",
       "  </thead>\n",
       "  <tbody>\n",
       "    <tr>\n",
       "      <th>count</th>\n",
       "      <td>1.230900e+04</td>\n",
       "      <td>12309.000000</td>\n",
       "      <td>12309.000000</td>\n",
       "      <td>12309.000000</td>\n",
       "      <td>12309.000000</td>\n",
       "      <td>12309.000000</td>\n",
       "    </tr>\n",
       "    <tr>\n",
       "      <th>mean</th>\n",
       "      <td>4.763984e+05</td>\n",
       "      <td>77371.711837</td>\n",
       "      <td>2.249249</td>\n",
       "      <td>1.782436</td>\n",
       "      <td>1454.722155</td>\n",
       "      <td>5.487614</td>\n",
       "    </tr>\n",
       "    <tr>\n",
       "      <th>std</th>\n",
       "      <td>9.617904e+05</td>\n",
       "      <td>175.995381</td>\n",
       "      <td>1.819605</td>\n",
       "      <td>1.586355</td>\n",
       "      <td>1740.859975</td>\n",
       "      <td>44.617888</td>\n",
       "    </tr>\n",
       "    <tr>\n",
       "      <th>min</th>\n",
       "      <td>2.000000e+02</td>\n",
       "      <td>75040.000000</td>\n",
       "      <td>0.000000</td>\n",
       "      <td>0.000000</td>\n",
       "      <td>0.000000</td>\n",
       "      <td>0.000000</td>\n",
       "    </tr>\n",
       "    <tr>\n",
       "      <th>25%</th>\n",
       "      <td>1.789900e+05</td>\n",
       "      <td>77327.000000</td>\n",
       "      <td>0.000000</td>\n",
       "      <td>0.000000</td>\n",
       "      <td>0.000000</td>\n",
       "      <td>0.000000</td>\n",
       "    </tr>\n",
       "    <tr>\n",
       "      <th>50%</th>\n",
       "      <td>3.050000e+05</td>\n",
       "      <td>77355.000000</td>\n",
       "      <td>3.000000</td>\n",
       "      <td>2.000000</td>\n",
       "      <td>1540.000000</td>\n",
       "      <td>0.000000</td>\n",
       "    </tr>\n",
       "    <tr>\n",
       "      <th>75%</th>\n",
       "      <td>4.816000e+05</td>\n",
       "      <td>77381.000000</td>\n",
       "      <td>4.000000</td>\n",
       "      <td>3.000000</td>\n",
       "      <td>2328.000000</td>\n",
       "      <td>0.470000</td>\n",
       "    </tr>\n",
       "    <tr>\n",
       "      <th>max</th>\n",
       "      <td>3.500000e+07</td>\n",
       "      <td>78738.000000</td>\n",
       "      <td>9.000000</td>\n",
       "      <td>9.000000</td>\n",
       "      <td>102801.000000</td>\n",
       "      <td>2200.000000</td>\n",
       "    </tr>\n",
       "  </tbody>\n",
       "</table>\n",
       "</div>"
      ],
      "text/plain": [
       "              Price       ZipCode          Beds         Baths           Sqft  \\\n",
       "count  1.230900e+04  12309.000000  12309.000000  12309.000000   12309.000000   \n",
       "mean   4.763984e+05  77371.711837      2.249249      1.782436    1454.722155   \n",
       "std    9.617904e+05    175.995381      1.819605      1.586355    1740.859975   \n",
       "min    2.000000e+02  75040.000000      0.000000      0.000000       0.000000   \n",
       "25%    1.789900e+05  77327.000000      0.000000      0.000000       0.000000   \n",
       "50%    3.050000e+05  77355.000000      3.000000      2.000000    1540.000000   \n",
       "75%    4.816000e+05  77381.000000      4.000000      3.000000    2328.000000   \n",
       "max    3.500000e+07  78738.000000      9.000000      9.000000  102801.000000   \n",
       "\n",
       "              Acres  \n",
       "count  12309.000000  \n",
       "mean       5.487614  \n",
       "std       44.617888  \n",
       "min        0.000000  \n",
       "25%        0.000000  \n",
       "50%        0.000000  \n",
       "75%        0.470000  \n",
       "max     2200.000000  "
      ]
     },
     "execution_count": 9,
     "metadata": {},
     "output_type": "execute_result"
    }
   ],
   "source": [
    "properties.describe()"
   ]
  },
  {
   "cell_type": "code",
   "execution_count": 10,
   "id": "bbc48d85-ff93-407c-aa49-4dfbe1df1b71",
   "metadata": {},
   "outputs": [],
   "source": [
    "# Build boxplot for House prices\n",
    "def boxPlot(column):\n",
    "    plt.figure(figsize=(5,1))\n",
    "    sns.boxplot(x=properties[column])"
   ]
  },
  {
   "cell_type": "code",
   "execution_count": 11,
   "id": "d839bfa3-abc3-41ac-b4b6-445377555272",
   "metadata": {},
   "outputs": [
    {
     "data": {
      "image/png": "[encoded data removed]",
      "text/plain": [
       "<Figure size 500x100 with 1 Axes>"
      ]
     },
     "metadata": {},
     "output_type": "display_data"
    }
   ],
   "source": [
    "boxPlot('Price')"
   ]
  },
  {
   "cell_type": "code",
   "execution_count": 13,
   "id": "335424cc-c306-4e97-8fa9-0aaf9935de6e",
   "metadata": {},
   "outputs": [
    {
     "data": {
      "text/plain": [
       "<Axes: xlabel='Price', ylabel='Count'>"
      ]
     },
     "execution_count": 13,
     "metadata": {},
     "output_type": "execute_result"
    },
    {
     "data": {
      "image/png": "[encoded data removed]",
      "text/plain": [
       "<Figure size 500x300 with 1 Axes>"
      ]
     },
     "metadata": {},
     "output_type": "display_data"
    }
   ],
   "source": [
    "plt.figure(figsize=(5,3))\n",
    "sns.histplot(properties['Price'],bins=(range(0,3600000,80000)))"
   ]
  },
  {
   "cell_type": "code",
   "execution_count": 14,
   "id": "6b91bff7-31ff-45d6-8cd5-ae90054bf5fc",
   "metadata": {},
   "outputs": [
    {
     "data": {
      "image/png": "[encoded data removed]",
      "text/plain": [
       "<Figure size 500x100 with 1 Axes>"
      ]
     },
     "metadata": {},
     "output_type": "display_data"
    }
   ],
   "source": [
    "boxPlot('Beds')"
   ]
  },
  {
   "cell_type": "code",
   "execution_count": null,
   "id": "d0738f64-e798-4525-9021-bd300f529da4",
   "metadata": {},
   "outputs": [],
   "source": []
  },
  {
   "cell_type": "code",
   "execution_count": 15,
   "id": "902498b9-7673-47e9-a96f-f2a67f192e90",
   "metadata": {},
   "outputs": [
    {
     "data": {
      "image/png": "[encoded data removed]",
      "text/plain": [
       "<Figure size 500x100 with 1 Axes>"
      ]
     },
     "metadata": {},
     "output_type": "display_data"
    }
   ],
   "source": [
    "boxPlot('Baths')"
   ]
  },
  {
   "cell_type": "code",
   "execution_count": null,
   "id": "41717170-b05d-4cd0-bf93-fc808393b422",
   "metadata": {},
   "outputs": [],
   "source": []
  },
  {
   "cell_type": "code",
   "execution_count": 16,
   "id": "88ac83ab-5aff-4f9e-bf1e-342f9ff99469",
   "metadata": {},
   "outputs": [
    {
     "data": {
      "image/png": "[encoded data removed]",
      "text/plain": [
       "<Figure size 500x100 with 1 Axes>"
      ]
     },
     "metadata": {},
     "output_type": "display_data"
    }
   ],
   "source": [
    "boxPlot('Sqft')"
   ]
  },
  {
   "cell_type": "code",
   "execution_count": 106,
   "id": "652b5217-173d-456d-bea0-0d51c1a8c442",
   "metadata": {},
   "outputs": [
    {
     "data": {
      "text/html": [
       "<div>\n",
       "<style scoped>\n",
       "    .dataframe tbody tr th:only-of-type {\n",
       "        vertical-align: middle;\n",
       "    }\n",
       "\n",
       "    .dataframe tbody tr th {\n",
       "        vertical-align: top;\n",
       "    }\n",
       "\n",
       "    .dataframe thead th {\n",
       "        text-align: right;\n",
       "    }\n",
       "</style>\n",
       "<table border=\"1\" class=\"dataframe\">\n",
       "  <thead>\n",
       "    <tr style=\"text-align: right;\">\n",
       "      <th></th>\n",
       "      <th>Price</th>\n",
       "      <th>Address</th>\n",
       "      <th>City</th>\n",
       "      <th>State</th>\n",
       "      <th>ZipCode</th>\n",
       "      <th>Beds</th>\n",
       "      <th>Baths</th>\n",
       "      <th>Sqft</th>\n",
       "      <th>Acres</th>\n",
       "    </tr>\n",
       "  </thead>\n",
       "  <tbody>\n",
       "    <tr>\n",
       "      <th>3985</th>\n",
       "      <td>2000000</td>\n",
       "      <td>40029 MILL CREEK RD # 4010</td>\n",
       "      <td>MAGNOLIA</td>\n",
       "      <td>TX</td>\n",
       "      <td>77354</td>\n",
       "      <td>3</td>\n",
       "      <td>2</td>\n",
       "      <td>102801</td>\n",
       "      <td>0.0</td>\n",
       "    </tr>\n",
       "  </tbody>\n",
       "</table>\n",
       "</div>"
      ],
      "text/plain": [
       "        Price                     Address      City State  ZipCode  Beds  \\\n",
       "3985  2000000  40029 MILL CREEK RD # 4010  MAGNOLIA    TX    77354     3   \n",
       "\n",
       "      Baths    Sqft  Acres  \n",
       "3985      2  102801    0.0  "
      ]
     },
     "execution_count": 106,
     "metadata": {},
     "output_type": "execute_result"
    }
   ],
   "source": [
    "properties[properties['Sqft'] > 100000]"
   ]
  },
  {
   "cell_type": "code",
   "execution_count": 17,
   "id": "4717b104-d983-4e24-b3ff-e3bf5a623741",
   "metadata": {},
   "outputs": [
    {
     "data": {
      "image/png": "[encoded data removed]",
      "text/plain": [
       "<Figure size 500x100 with 1 Axes>"
      ]
     },
     "metadata": {},
     "output_type": "display_data"
    }
   ],
   "source": [
    "boxPlot('Acres')"
   ]
  },
  {
   "cell_type": "code",
   "execution_count": 108,
   "id": "5d0bac7a-3a63-4c7e-b435-c99def1694e4",
   "metadata": {},
   "outputs": [
    {
     "data": {
      "text/html": [
       "<div>\n",
       "<style scoped>\n",
       "    .dataframe tbody tr th:only-of-type {\n",
       "        vertical-align: middle;\n",
       "    }\n",
       "\n",
       "    .dataframe tbody tr th {\n",
       "        vertical-align: top;\n",
       "    }\n",
       "\n",
       "    .dataframe thead th {\n",
       "        text-align: right;\n",
       "    }\n",
       "</style>\n",
       "<table border=\"1\" class=\"dataframe\">\n",
       "  <thead>\n",
       "    <tr style=\"text-align: right;\">\n",
       "      <th></th>\n",
       "      <th>Price</th>\n",
       "      <th>Address</th>\n",
       "      <th>City</th>\n",
       "      <th>State</th>\n",
       "      <th>ZipCode</th>\n",
       "      <th>Beds</th>\n",
       "      <th>Baths</th>\n",
       "      <th>Sqft</th>\n",
       "      <th>Acres</th>\n",
       "    </tr>\n",
       "  </thead>\n",
       "  <tbody>\n",
       "    <tr>\n",
       "      <th>7575</th>\n",
       "      <td>8118000</td>\n",
       "      <td>0000 HWY 249</td>\n",
       "      <td>NAVASOTA</td>\n",
       "      <td>TX</td>\n",
       "      <td>77868</td>\n",
       "      <td>0</td>\n",
       "      <td>0</td>\n",
       "      <td>0</td>\n",
       "      <td>2200.00</td>\n",
       "    </tr>\n",
       "    <tr>\n",
       "      <th>9171</th>\n",
       "      <td>19452000</td>\n",
       "      <td>45152 MITCHAMORE RD</td>\n",
       "      <td>HEMPSTEAD</td>\n",
       "      <td>TX</td>\n",
       "      <td>77445</td>\n",
       "      <td>0</td>\n",
       "      <td>0</td>\n",
       "      <td>0</td>\n",
       "      <td>2166.32</td>\n",
       "    </tr>\n",
       "  </tbody>\n",
       "</table>\n",
       "</div>"
      ],
      "text/plain": [
       "         Price              Address       City State  ZipCode  Beds  Baths  \\\n",
       "7575   8118000         0000 HWY 249   NAVASOTA    TX    77868     0      0   \n",
       "9171  19452000  45152 MITCHAMORE RD  HEMPSTEAD    TX    77445     0      0   \n",
       "\n",
       "      Sqft    Acres  \n",
       "7575     0  2200.00  \n",
       "9171     0  2166.32  "
      ]
     },
     "execution_count": 108,
     "metadata": {},
     "output_type": "execute_result"
    }
   ],
   "source": [
    "properties[properties['Acres'] > 2000]"
   ]
  },
  {
   "cell_type": "code",
   "execution_count": 20,
   "id": "095a4ae2-0f27-4bff-964d-a41cc1ea8174",
   "metadata": {},
   "outputs": [
    {
     "data": {
      "text/html": [
       "<div>\n",
       "<style scoped>\n",
       "    .dataframe tbody tr th:only-of-type {\n",
       "        vertical-align: middle;\n",
       "    }\n",
       "\n",
       "    .dataframe tbody tr th {\n",
       "        vertical-align: top;\n",
       "    }\n",
       "\n",
       "    .dataframe thead th {\n",
       "        text-align: right;\n",
       "    }\n",
       "</style>\n",
       "<table border=\"1\" class=\"dataframe\">\n",
       "  <thead>\n",
       "    <tr style=\"text-align: right;\">\n",
       "      <th></th>\n",
       "      <th>Price</th>\n",
       "    </tr>\n",
       "    <tr>\n",
       "      <th>City</th>\n",
       "      <th></th>\n",
       "    </tr>\n",
       "  </thead>\n",
       "  <tbody>\n",
       "    <tr>\n",
       "      <th>CONROE</th>\n",
       "      <td>2063</td>\n",
       "    </tr>\n",
       "    <tr>\n",
       "      <th>CLEVELAND</th>\n",
       "      <td>1149</td>\n",
       "    </tr>\n",
       "    <tr>\n",
       "      <th>MONTGOMERY</th>\n",
       "      <td>1085</td>\n",
       "    </tr>\n",
       "    <tr>\n",
       "      <th>MAGNOLIA</th>\n",
       "      <td>962</td>\n",
       "    </tr>\n",
       "    <tr>\n",
       "      <th>WILLIS</th>\n",
       "      <td>705</td>\n",
       "    </tr>\n",
       "    <tr>\n",
       "      <th>...</th>\n",
       "      <td>...</td>\n",
       "    </tr>\n",
       "    <tr>\n",
       "      <th>SLENDORA</th>\n",
       "      <td>1</td>\n",
       "    </tr>\n",
       "    <tr>\n",
       "      <th>MONT BELVIEU</th>\n",
       "      <td>1</td>\n",
       "    </tr>\n",
       "    <tr>\n",
       "      <th>NO CITY</th>\n",
       "      <td>1</td>\n",
       "    </tr>\n",
       "    <tr>\n",
       "      <th>NORTH CLEVELAND</th>\n",
       "      <td>1</td>\n",
       "    </tr>\n",
       "    <tr>\n",
       "      <th>LIBERTY CITY</th>\n",
       "      <td>1</td>\n",
       "    </tr>\n",
       "  </tbody>\n",
       "</table>\n",
       "<p>88 rows × 1 columns</p>\n",
       "</div>"
      ],
      "text/plain": [
       "                 Price\n",
       "City                  \n",
       "CONROE            2063\n",
       "CLEVELAND         1149\n",
       "MONTGOMERY        1085\n",
       "MAGNOLIA           962\n",
       "WILLIS             705\n",
       "...                ...\n",
       "SLENDORA             1\n",
       "MONT BELVIEU         1\n",
       "NO CITY              1\n",
       "NORTH CLEVELAND      1\n",
       "LIBERTY CITY         1\n",
       "\n",
       "[88 rows x 1 columns]"
      ]
     },
     "execution_count": 20,
     "metadata": {},
     "output_type": "execute_result"
    }
   ],
   "source": [
    "city = properties.groupby(by='City').count()[['Price']].sort_values(by='Price', ascending=False)\n",
    "city"
   ]
  },
  {
   "cell_type": "code",
   "execution_count": 44,
   "id": "2fbdd351-b0f8-474d-a193-6d533d7662ce",
   "metadata": {},
   "outputs": [],
   "source": [
    "def groupBar(df,name):\n",
    "    plt.figure(figsize=(15,3))\n",
    "    ax = sns.barplot(data=df, x=df.index, y=df.Price)\n",
    "    plt.title(f'The Number of Properties for Sale by {name}')\n",
    "    plt.ylabel('Count')\n",
    "    plt.xticks(rotation=45, horizontalalignment='right')\n",
    "    ax.set_xticklabels(labels=df.index,fontsize=6)"
   ]
  },
  {
   "cell_type": "code",
   "execution_count": 45,
   "id": "4671077d-9dfc-43fe-97ea-8435d7c7e51c",
   "metadata": {},
   "outputs": [
    {
     "data": {
      "image/png": "[encoded data removed]",
      "text/plain": [
       "<Figure size 1500x300 with 1 Axes>"
      ]
     },
     "metadata": {},
     "output_type": "display_data"
    }
   ],
   "source": [
    "groupBar(city,'City')"
   ]
  },
  {
   "cell_type": "code",
   "execution_count": 46,
   "id": "78853a01-3e0f-4ff9-a7df-e58dfecfec9c",
   "metadata": {},
   "outputs": [],
   "source": [
    "zip = properties.groupby(by='ZipCode').count()[['Price']]\n",
    "zip.sort_values(by='Price', ascending=False, inplace=True)"
   ]
  },
  {
   "cell_type": "code",
   "execution_count": 47,
   "id": "7efd8ae3-f5f8-4285-8339-c56bde54323e",
   "metadata": {},
   "outputs": [
    {
     "data": {
      "image/png": "[encoded data removed]",
      "text/plain": [
       "<Figure size 1500x300 with 1 Axes>"
      ]
     },
     "metadata": {},
     "output_type": "display_data"
    }
   ],
   "source": [
    "groupBar(zip,'Zip Code')"
   ]
  },
  {
   "cell_type": "code",
   "execution_count": 105,
   "id": "92c5b76e-5fc9-4061-a8c2-d6d7f8d41846",
   "metadata": {
    "scrolled": true
   },
   "outputs": [
    {
     "data": {
      "text/html": [
       "<div>\n",
       "<style scoped>\n",
       "    .dataframe tbody tr th:only-of-type {\n",
       "        vertical-align: middle;\n",
       "    }\n",
       "\n",
       "    .dataframe tbody tr th {\n",
       "        vertical-align: top;\n",
       "    }\n",
       "\n",
       "    .dataframe thead th {\n",
       "        text-align: right;\n",
       "    }\n",
       "</style>\n",
       "<table border=\"1\" class=\"dataframe\">\n",
       "  <thead>\n",
       "    <tr style=\"text-align: right;\">\n",
       "      <th></th>\n",
       "      <th>Price</th>\n",
       "    </tr>\n",
       "    <tr>\n",
       "      <th>City</th>\n",
       "      <th></th>\n",
       "    </tr>\n",
       "  </thead>\n",
       "  <tbody>\n",
       "    <tr>\n",
       "      <th>CONROE</th>\n",
       "      <td>3649280.00</td>\n",
       "    </tr>\n",
       "    <tr>\n",
       "      <th>RICHARDS</th>\n",
       "      <td>1162000.00</td>\n",
       "    </tr>\n",
       "    <tr>\n",
       "      <th>NEW WAVERLY</th>\n",
       "      <td>626545.08</td>\n",
       "    </tr>\n",
       "    <tr>\n",
       "      <th>BEDIAS</th>\n",
       "      <td>559965.60</td>\n",
       "    </tr>\n",
       "    <tr>\n",
       "      <th>HUNTSVILLE</th>\n",
       "      <td>404223.13</td>\n",
       "    </tr>\n",
       "    <tr>\n",
       "      <th>RIVERSIDE</th>\n",
       "      <td>318749.75</td>\n",
       "    </tr>\n",
       "    <tr>\n",
       "      <th>AQUILLA</th>\n",
       "      <td>233333.33</td>\n",
       "    </tr>\n",
       "    <tr>\n",
       "      <th>MIDWAY</th>\n",
       "      <td>168909.33</td>\n",
       "    </tr>\n",
       "    <tr>\n",
       "      <th>TRINITY</th>\n",
       "      <td>156253.04</td>\n",
       "    </tr>\n",
       "    <tr>\n",
       "      <th>WACO</th>\n",
       "      <td>117000.00</td>\n",
       "    </tr>\n",
       "    <tr>\n",
       "      <th>OTHER</th>\n",
       "      <td>50000.00</td>\n",
       "    </tr>\n",
       "  </tbody>\n",
       "</table>\n",
       "</div>"
      ],
      "text/plain": [
       "                  Price\n",
       "City                   \n",
       "CONROE       3649280.00\n",
       "RICHARDS     1162000.00\n",
       "NEW WAVERLY   626545.08\n",
       "BEDIAS        559965.60\n",
       "HUNTSVILLE    404223.13\n",
       "RIVERSIDE     318749.75\n",
       "AQUILLA       233333.33\n",
       "MIDWAY        168909.33\n",
       "TRINITY       156253.04\n",
       "WACO          117000.00\n",
       "OTHER          50000.00"
      ]
     },
     "execution_count": 105,
     "metadata": {},
     "output_type": "execute_result"
    }
   ],
   "source": [
    "avg_by_city = properties.groupby(by='City').agg({'Price':'mean'}).round(2).\\\n",
    "    sort_values(by='Price', ascending=False)\n",
    "avg_by_city"
   ]
  },
  {
   "cell_type": "code",
   "execution_count": 133,
   "id": "ea5cf9d2-1b82-4790-8367-cf1c810e6b4f",
   "metadata": {},
   "outputs": [],
   "source": [
    "def groupAvgBar(df,name):\n",
    "    plt.figure(figsize=(5,3))\n",
    "    sns.barplot(x=df.index, y=df.Price)\n",
    "    plt.title(f'The Average Price Per Property by {name}')\n",
    "    plt.ylabel('Average Price')\n",
    "    plt.xticks(rotation=45, horizontalalignment='right')\n",
    "    "
   ]
  },
  {
   "cell_type": "code",
   "execution_count": 126,
   "id": "15968a6e-6492-48b7-913f-9e23b4aba8d3",
   "metadata": {},
   "outputs": [
    {
     "data": {
      "image/png": "[encoded data removed]",
      "text/plain": [
       "<Figure size 500x300 with 1 Axes>"
      ]
     },
     "metadata": {},
     "output_type": "display_data"
    }
   ],
   "source": [
    "groupAvgBar(avg_by_city,'City')"
   ]
  },
  {
   "cell_type": "code",
   "execution_count": 134,
   "id": "a4a1579f-9979-4d4c-8b32-77da8a0e6e73",
   "metadata": {},
   "outputs": [
    {
     "data": {
      "text/html": [
       "<div>\n",
       "<style scoped>\n",
       "    .dataframe tbody tr th:only-of-type {\n",
       "        vertical-align: middle;\n",
       "    }\n",
       "\n",
       "    .dataframe tbody tr th {\n",
       "        vertical-align: top;\n",
       "    }\n",
       "\n",
       "    .dataframe thead th {\n",
       "        text-align: right;\n",
       "    }\n",
       "</style>\n",
       "<table border=\"1\" class=\"dataframe\">\n",
       "  <thead>\n",
       "    <tr style=\"text-align: right;\">\n",
       "      <th></th>\n",
       "      <th>Price</th>\n",
       "    </tr>\n",
       "    <tr>\n",
       "      <th>ZipCode</th>\n",
       "      <th></th>\n",
       "    </tr>\n",
       "  </thead>\n",
       "  <tbody>\n",
       "    <tr>\n",
       "      <th>77873</th>\n",
       "      <td>1162000.00</td>\n",
       "    </tr>\n",
       "    <tr>\n",
       "      <th>77358</th>\n",
       "      <td>624379.37</td>\n",
       "    </tr>\n",
       "    <tr>\n",
       "      <th>77831</th>\n",
       "      <td>559965.60</td>\n",
       "    </tr>\n",
       "    <tr>\n",
       "      <th>77367</th>\n",
       "      <td>550000.00</td>\n",
       "    </tr>\n",
       "    <tr>\n",
       "      <th>77320</th>\n",
       "      <td>504938.20</td>\n",
       "    </tr>\n",
       "    <tr>\n",
       "      <th>77340</th>\n",
       "      <td>338119.06</td>\n",
       "    </tr>\n",
       "    <tr>\n",
       "      <th>75852</th>\n",
       "      <td>235159.33</td>\n",
       "    </tr>\n",
       "    <tr>\n",
       "      <th>76622</th>\n",
       "      <td>233333.33</td>\n",
       "    </tr>\n",
       "    <tr>\n",
       "      <th>77342</th>\n",
       "      <td>165600.00</td>\n",
       "    </tr>\n",
       "    <tr>\n",
       "      <th>77430</th>\n",
       "      <td>160000.00</td>\n",
       "    </tr>\n",
       "    <tr>\n",
       "      <th>75862</th>\n",
       "      <td>151825.83</td>\n",
       "    </tr>\n",
       "    <tr>\n",
       "      <th>76704</th>\n",
       "      <td>117000.00</td>\n",
       "    </tr>\n",
       "  </tbody>\n",
       "</table>\n",
       "</div>"
      ],
      "text/plain": [
       "              Price\n",
       "ZipCode            \n",
       "77873    1162000.00\n",
       "77358     624379.37\n",
       "77831     559965.60\n",
       "77367     550000.00\n",
       "77320     504938.20\n",
       "77340     338119.06\n",
       "75852     235159.33\n",
       "76622     233333.33\n",
       "77342     165600.00\n",
       "77430     160000.00\n",
       "75862     151825.83\n",
       "76704     117000.00"
      ]
     },
     "execution_count": 134,
     "metadata": {},
     "output_type": "execute_result"
    }
   ],
   "source": [
    "avg_by_zipcode = properties.groupby(by='ZipCode').agg({'Price':'mean'}).round(2).\\\n",
    "    sort_values(by='Price', ascending=False)\n",
    "avg_by_zipcode"
   ]
  },
  {
   "cell_type": "code",
   "execution_count": 135,
   "id": "c69f0af4-1690-4ab6-a1a6-6da8d8d49e1d",
   "metadata": {},
   "outputs": [
    {
     "data": {
      "image/png": "[encoded data removed]",
      "text/plain": [
       "<Figure size 500x300 with 1 Axes>"
      ]
     },
     "metadata": {},
     "output_type": "display_data"
    }
   ],
   "source": [
    "groupAvgBar(avg_by_zipcode,'Zip Code')"
   ]
  },
  {
   "cell_type": "code",
   "execution_count": 143,
   "id": "1edbf840-f213-496f-89a8-eb1f9a18ae73",
   "metadata": {},
   "outputs": [
    {
     "data": {
      "text/html": [
       "<div>\n",
       "<style scoped>\n",
       "    .dataframe tbody tr th:only-of-type {\n",
       "        vertical-align: middle;\n",
       "    }\n",
       "\n",
       "    .dataframe tbody tr th {\n",
       "        vertical-align: top;\n",
       "    }\n",
       "\n",
       "    .dataframe thead th {\n",
       "        text-align: right;\n",
       "    }\n",
       "</style>\n",
       "<table border=\"1\" class=\"dataframe\">\n",
       "  <thead>\n",
       "    <tr style=\"text-align: right;\">\n",
       "      <th></th>\n",
       "      <th>Price</th>\n",
       "      <th>Address</th>\n",
       "      <th>City</th>\n",
       "      <th>State</th>\n",
       "      <th>ZipCode</th>\n",
       "      <th>Beds</th>\n",
       "      <th>Baths</th>\n",
       "      <th>Sqft</th>\n",
       "      <th>Acres</th>\n",
       "    </tr>\n",
       "  </thead>\n",
       "  <tbody>\n",
       "    <tr>\n",
       "      <th>87</th>\n",
       "      <td>105000</td>\n",
       "      <td>79 HARPER BRANCH RD</td>\n",
       "      <td>TRINITY</td>\n",
       "      <td>TX</td>\n",
       "      <td>75862</td>\n",
       "      <td>0</td>\n",
       "      <td>0</td>\n",
       "      <td>0</td>\n",
       "      <td>10.00</td>\n",
       "    </tr>\n",
       "    <tr>\n",
       "      <th>293</th>\n",
       "      <td>140000</td>\n",
       "      <td>38 FM 3454 RD</td>\n",
       "      <td>HUNTSVILLE</td>\n",
       "      <td>TX</td>\n",
       "      <td>77320</td>\n",
       "      <td>0</td>\n",
       "      <td>0</td>\n",
       "      <td>0</td>\n",
       "      <td>9.35</td>\n",
       "    </tr>\n",
       "    <tr>\n",
       "      <th>413</th>\n",
       "      <td>192500</td>\n",
       "      <td>TRACT 2 FM 405</td>\n",
       "      <td>HUNTSVILLE</td>\n",
       "      <td>TX</td>\n",
       "      <td>77340</td>\n",
       "      <td>0</td>\n",
       "      <td>0</td>\n",
       "      <td>0</td>\n",
       "      <td>7.00</td>\n",
       "    </tr>\n",
       "    <tr>\n",
       "      <th>674</th>\n",
       "      <td>199900</td>\n",
       "      <td>000 LOST INDIAN CAMP ROAD</td>\n",
       "      <td>HUNTSVILLE</td>\n",
       "      <td>TX</td>\n",
       "      <td>77320</td>\n",
       "      <td>0</td>\n",
       "      <td>0</td>\n",
       "      <td>0</td>\n",
       "      <td>10.34</td>\n",
       "    </tr>\n",
       "    <tr>\n",
       "      <th>733</th>\n",
       "      <td>191189</td>\n",
       "      <td>TBD HADLEY CREEK BEND</td>\n",
       "      <td>HUNTSVILLE</td>\n",
       "      <td>TX</td>\n",
       "      <td>77320</td>\n",
       "      <td>0</td>\n",
       "      <td>0</td>\n",
       "      <td>0</td>\n",
       "      <td>7.99</td>\n",
       "    </tr>\n",
       "    <tr>\n",
       "      <th>736</th>\n",
       "      <td>199385</td>\n",
       "      <td>TBD HADLEY CREEK BEND</td>\n",
       "      <td>HUNTSVILLE</td>\n",
       "      <td>TX</td>\n",
       "      <td>77320</td>\n",
       "      <td>0</td>\n",
       "      <td>0</td>\n",
       "      <td>0</td>\n",
       "      <td>8.00</td>\n",
       "    </tr>\n",
       "  </tbody>\n",
       "</table>\n",
       "</div>"
      ],
      "text/plain": [
       "      Price                    Address        City State  ZipCode  Beds  \\\n",
       "87   105000        79 HARPER BRANCH RD     TRINITY    TX    75862     0   \n",
       "293  140000              38 FM 3454 RD  HUNTSVILLE    TX    77320     0   \n",
       "413  192500             TRACT 2 FM 405  HUNTSVILLE    TX    77340     0   \n",
       "674  199900  000 LOST INDIAN CAMP ROAD  HUNTSVILLE    TX    77320     0   \n",
       "733  191189      TBD HADLEY CREEK BEND  HUNTSVILLE    TX    77320     0   \n",
       "736  199385      TBD HADLEY CREEK BEND  HUNTSVILLE    TX    77320     0   \n",
       "\n",
       "     Baths  Sqft  Acres  \n",
       "87       0     0  10.00  \n",
       "293      0     0   9.35  \n",
       "413      0     0   7.00  \n",
       "674      0     0  10.34  \n",
       "733      0     0   7.99  \n",
       "736      0     0   8.00  "
      ]
     },
     "execution_count": 143,
     "metadata": {},
     "output_type": "execute_result"
    }
   ],
   "source": [
    "properties[(properties['Acres'] >= 7) & (properties['Price'] < 200000)]"
   ]
  },
  {
   "cell_type": "code",
   "execution_count": 109,
   "id": "43dfad77-4e62-46a4-a62f-9df183ff0811",
   "metadata": {},
   "outputs": [],
   "source": [
    "properties.to_csv('properties.csv', index=False)"
   ]
  },
  {
   "cell_type": "code",
   "execution_count": null,
   "id": "8ba6a556-42f6-460d-aecb-43ed1f33b567",
   "metadata": {},
   "outputs": [],
   "source": []
  }
 ],
 "metadata": {
  "kernelspec": {
   "display_name": "Python 3 (ipykernel)",
   "language": "python",
   "name": "python3"
  },
  "language_info": {
   "codemirror_mode": {
    "name": "ipython",
    "version": 3
   },
   "file_extension": ".py",
   "mimetype": "text/x-python",
   "name": "python",
   "nbconvert_exporter": "python",
   "pygments_lexer": "ipython3",
   "version": "3.10.12"
  }
 },
 "nbformat": 4,
 "nbformat_minor": 5
}
